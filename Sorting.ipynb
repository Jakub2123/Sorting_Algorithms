{
 "cells": [
  {
   "cell_type": "code",
   "execution_count": 85,
   "id": "63cad065",
   "metadata": {},
   "outputs": [],
   "source": [
    "library_num = [124,235,456,123,756,476,285,998,379,108,99,1002,666,347,24,54,175,563,732] "
   ]
  },
  {
   "cell_type": "code",
   "execution_count": null,
   "id": "0bc394c2",
   "metadata": {},
   "outputs": [],
   "source": [
    "#Buble Sort \n",
    "#is the simplest sorting algorithm. We compare pairs of adjacent elements and swap them if \n",
    "#they are not in the correct order"
   ]
  },
  {
   "cell_type": "code",
   "execution_count": 87,
   "id": "f97fc95b",
   "metadata": {},
   "outputs": [
    {
     "name": "stdout",
     "output_type": "stream",
     "text": [
      "Initial array: [124, 235, 456, 123, 756, 476, 285, 998, 379, 108, 99, 1002, 666, 347, 24, 54, 175, 563, 732]\n",
      "The number of permutations is 85\n",
      "Sorted array: [24, 54, 99, 108, 123, 124, 175, 235, 285, 347, 379, 456, 476, 563, 666, 732, 756, 998, 1002]\n"
     ]
    }
   ],
   "source": [
    "def bubble_sort(arr):\n",
    "    count = 0\n",
    "    need_iteration = 'true'\n",
    "    while need_iteration == 'true':\n",
    "        need_iteration = 'false'\n",
    "        for i in range(len(arr)):\n",
    "            for j in range(0, len(arr)-i-1):\n",
    "                if arr[j] > arr[j+1]:\n",
    "                    arr[j], arr[j+1] = arr[j+1], arr[j]\n",
    "                    need_iteration = 'true'\n",
    "                    count +=1\n",
    "    print(\"The number of permutations is\", count)\n",
    "    \n",
    "library_num = [124,235,456,123,756,476,285,998,379,108,99,1002,666,347,24,54,175,563,732] \n",
    "print(\"Initial array:\", library_num) \n",
    "bubble_sort(library_num) \n",
    "print (\"Sorted array:\", library_num)"
   ]
  },
  {
   "cell_type": "code",
   "execution_count": null,
   "id": "d3c9445a",
   "metadata": {},
   "outputs": [],
   "source": [
    "#Insertion sort iterates through an array and moves the desired value to the beginning of the array."
   ]
  },
  {
   "cell_type": "code",
   "execution_count": 88,
   "id": "bd2337bc",
   "metadata": {},
   "outputs": [
    {
     "name": "stdout",
     "output_type": "stream",
     "text": [
      "Initial array: [124, 235, 456, 123, 756, 476, 285, 998, 379, 108, 99, 1002, 666, 347, 24, 54, 175, 563, 732]\n",
      "The number of permutations is 85\n",
      "Sorted array: [24, 54, 99, 108, 123, 124, 175, 235, 285, 347, 379, 456, 476, 563, 666, 732, 756, 998, 1002]\n"
     ]
    }
   ],
   "source": [
    "def insertion_sort(arr):\n",
    "    count = 0\n",
    "    for i in range(1, len(arr)):\n",
    "        key_item = arr[i]\n",
    "        j = i-1\n",
    "        while j >= 0 and key_item < arr[j]:\n",
    "            arr[j + 1] = arr[j]\n",
    "            j -= 1\n",
    "            count +=1\n",
    "        arr[j + 1] = key_item\n",
    "    print(\"The number of permutations is\", count)\n",
    "    \n",
    "library_num = [124,235,456,123,756,476,285,998,379,108,99,1002,666,347,24,54,175,563,732] \n",
    "print(\"Initial array:\", library_num)\n",
    "insertion_sort(library_num)\n",
    "print (\"Sorted array:\", library_num)"
   ]
  },
  {
   "cell_type": "code",
   "execution_count": 83,
   "id": "1a781f4a",
   "metadata": {},
   "outputs": [],
   "source": [
    "#Selection sort is a kind of hybrid between the bubble sort and the insertion sort. Like the bubble sort, \n",
    "#this algorithm iterates over an array over and over, moving one value to the correct position."
   ]
  },
  {
   "cell_type": "code",
   "execution_count": 89,
   "id": "4bf301b4",
   "metadata": {},
   "outputs": [
    {
     "name": "stdout",
     "output_type": "stream",
     "text": [
      "Initial array: [124, 235, 456, 123, 756, 476, 285, 998, 379, 108, 99, 1002, 666, 347, 24, 54, 175, 563, 732]\n",
      "Sorted array: [24, 54, 99, 108, 123, 124, 175, 235, 285, 347, 379, 456, 476, 563, 666, 732, 756, 998, 1002]\n"
     ]
    }
   ],
   "source": [
    "def selection_sort(arr):    \n",
    "    for i in range(len(arr)):\n",
    "        min = i\n",
    "        for j in range(i + 1, len(arr)):\n",
    "            if arr[min] > arr[j]:\n",
    "                min = j\n",
    "        arr[i], arr[min] = arr[min], arr[i]\n",
    "\n",
    "        library_num = [124,235,456,123,756,476,285,998,379,108,99,1002,666,347,24,54,175,563,732]\n",
    "\n",
    "library_num = [124,235,456,123,756,476,285,998,379,108,99,1002,666,347,24,54,175,563,732] \n",
    "print(\"Initial array:\", library_num)\n",
    "selection_sort(library_num)\n",
    "print (\"Sorted array:\", library_num)"
   ]
  },
  {
   "cell_type": "code",
   "execution_count": null,
   "id": "bb1cea72",
   "metadata": {},
   "outputs": [],
   "source": [
    "#Heapsort s a comparison-based sorting technique based on the binary heap data structure. This is similar to sorting by selection, where we first find the minimum element and place the minimum element in the beginning.\n",
    "#However, in this case, the largest elements are usually placed in the nodes."
   ]
  },
  {
   "cell_type": "code",
   "execution_count": 46,
   "id": "2906e5da",
   "metadata": {},
   "outputs": [
    {
     "name": "stdout",
     "output_type": "stream",
     "text": [
      "Initial array: [124, 235, 456, 123, 756, 476, 285, 998, 379, 108, 99, 1002, 666, 347, 24, 54, 175, 563, 732]\n",
      "Sorted array: [24, 54, 99, 108, 123, 124, 175, 235, 285, 347, 379, 456, 476, 563, 666, 732, 756, 998, 1002]\n"
     ]
    }
   ],
   "source": [
    "def heapify(arr, n, i):\n",
    "    largest = i\n",
    "    left = 2 * i + 1\n",
    "    right = 2 * i + 2\n",
    "    \n",
    "    if left < n and arr[i] < arr[left]:\n",
    "        largest = left\n",
    "    if right < n and arr[largest] < arr[right]:\n",
    "        largest = right\n",
    "    if largest != i:\n",
    "        arr[i], arr[largest] = arr[largest], arr[i]\n",
    "        heapify(arr, n, largest)    \n",
    "        \n",
    "def heap_sort(arr):    \n",
    "    for i in range(len(arr)//2,-1,-1):\n",
    "        heapify(arr, len(arr), i)\n",
    "    for i in range(len(arr)-1, 0, -1):\n",
    "        arr[i], arr[0] = arr[0], arr[i]\n",
    "        heapify(arr, i, 0)\n",
    "        \n",
    "library_num = [124,235,456,123,756,476,285,998,379,108,99,1002,666,347,24,54,175,563,732]\n",
    "print(\"Initial array:\", library_num)\n",
    "heap_sort(library_num)\n",
    "print (\"Sorted array:\", library_num)\n",
    "       "
   ]
  },
  {
   "cell_type": "code",
   "execution_count": null,
   "id": "835d2b33",
   "metadata": {},
   "outputs": [],
   "source": [
    "# Merge sort \n",
    "#is a sorting algorithm that orders lists (or other data structures whose elements can only be accessed sequentially,\n",
    "#such as streams) in a specific order. To merge means to combine two (or more) sequences into one ordered sequence \n",
    "#by cyclically selecting the items currently available."
   ]
  },
  {
   "cell_type": "code",
   "execution_count": 60,
   "id": "7e9d3bd0",
   "metadata": {},
   "outputs": [
    {
     "name": "stdout",
     "output_type": "stream",
     "text": [
      "Initial array: [124, 235, 456, 123, 756, 476, 285, 998, 379, 108, 99, 1002, 666, 347, 24, 54, 175, 563, 732]\n",
      "Sorted array: [24, 54, 99, 108, 123, 124, 175, 235, 285, 347, 379, 456, 476, 563, 666, 732, 756, 998, 1002]\n"
     ]
    }
   ],
   "source": [
    "def merge_sort(arr):\n",
    "    if len(arr) > 1:\n",
    "        mean = len(arr)//2\n",
    "        left_arr = arr[:mean]\n",
    "        right_arr = arr[mean:]\n",
    "        merge_sort(left_arr)\n",
    "        merge_sort(right_arr)\n",
    "        \n",
    "        i = j = k = 0\n",
    "        while i < len(left_arr) and j < len(right_arr):\n",
    "            if left_arr[i] < right_arr[j]:\n",
    "                arr[k] = left_arr[i]\n",
    "                i += 1\n",
    "            else:\n",
    "                arr[k] = right_arr[j]\n",
    "                j += 1\n",
    "            k += 1\n",
    "        while i < len(left_arr):\n",
    "            arr[k] = left_arr[i]\n",
    "            i += 1\n",
    "            k += 1\n",
    "            \n",
    "        while j < len(right_arr):\n",
    "            arr[k] = right_arr[j]\n",
    "            j += 1\n",
    "            k += 1\n",
    "\n",
    "library_num = [124,235,456,123,756,476,285,998,379,108,99,1002,666,347,24,54,175,563,732]\n",
    "print(\"Initial array:\", library_num)\n",
    "merge_sort(library_num)\n",
    "print (\"Sorted array:\", library_num)"
   ]
  },
  {
   "cell_type": "code",
   "execution_count": 62,
   "id": "2235480e",
   "metadata": {},
   "outputs": [],
   "source": [
    "#Quicksort sort"
   ]
  },
  {
   "cell_type": "code",
   "execution_count": 64,
   "id": "6b9eaee7",
   "metadata": {},
   "outputs": [
    {
     "name": "stdout",
     "output_type": "stream",
     "text": [
      "Initial array: [124, 235, 456, 123, 756, 476, 285, 998, 379, 108, 99, 1002, 666, 347, 24, 54, 175, 563, 732]\n",
      "Sorted array: [24, 54, 99, 108, 123, 124, 175, 235, 285, 347, 379, 456, 476, 563, 666, 732, 756, 998, 1002]\n"
     ]
    }
   ],
   "source": [
    "def partition(arr,left,right): \n",
    "    i = ( left-1 )      # index of smaller element \n",
    "    key = arr[right]    # a key element \n",
    "    \n",
    "    for j in range(left, right): \n",
    "        if   arr[j] < key:  \n",
    "            i += 1 \n",
    "            arr[i],arr[j] = arr[j],arr[i]  \n",
    "    arr[i + 1],arr[right] = arr[right],arr[i + 1] \n",
    "    return ( i+1 )\n",
    "\n",
    "def quick_sort(arr,left,right):\n",
    "    if left < right:\n",
    "        key_index = partition(arr,left,right)\n",
    "        quick_sort(arr,left,key_index - 1)\n",
    "        quick_sort(arr,key_index + 1, right)        \n",
    "        \n",
    "library_num = [124,235,456,123,756,476,285,998,379,108,99,1002,666,347,24,54,175,563,732]\n",
    "print(\"Initial array:\", library_num)\n",
    "quick_sort(library_num, 0, len(library_num) - 1)\n",
    "print (\"Sorted array:\", library_num)"
   ]
  },
  {
   "cell_type": "code",
   "execution_count": null,
   "id": "30906a44",
   "metadata": {},
   "outputs": [],
   "source": [
    "#Radix sort is a non-comparative sorting algorithm. It avoids comparison by creating and distributing elements\n",
    "#into buckets according to their radix. The array is iterated over for several times,\n",
    "#and the elements are rearranged depending on which digit is in a certain bit."
   ]
  },
  {
   "cell_type": "code",
   "execution_count": 65,
   "id": "f0c4a703",
   "metadata": {},
   "outputs": [
    {
     "name": "stdout",
     "output_type": "stream",
     "text": [
      "Initial array: [124, 235, 456, 123, 756, 476, 285, 998, 379, 108]\n",
      "Sorted array: [108, 123, 124, 235, 285, 379, 456, 476, 756, 998]\n"
     ]
    }
   ],
   "source": [
    "def counting_sort(arr, place):\n",
    "    size = len(arr)\n",
    "    output = [0] * size\n",
    "    count = [0] * 10\n",
    "\n",
    "    # Determine count of elements\n",
    "    for i in range(0, size):\n",
    "        index = arr[i] // place\n",
    "        count[index % 10] += 1\n",
    "\n",
    "    # Determine cummulative count\n",
    "    for i in range(1, 10):\n",
    "        count[i] += count[i - 1]\n",
    "\n",
    "    # Place the elements in the correct place\n",
    "    i = size - 1\n",
    "    while i >= 0:\n",
    "        index = arr[i] // place\n",
    "        output[count[index % 10] - 1] = arr[i]\n",
    "        count[index % 10] -= 1\n",
    "        i -= 1\n",
    "\n",
    "    for i in range(0, size):\n",
    "        arr[i] = output[i]\n",
    "\n",
    "def radix_sort(arr):\n",
    "    max_item = max(arr)\n",
    "    place = 1\n",
    "    while max_item // place > 0:\n",
    "        counting_sort(arr, place)\n",
    "        place *= 10\n",
    "\n",
    "library_num = [124,235,456,123,756,476,285,998,379,108]\n",
    "print(\"Initial array:\", library_num)\n",
    "radix_sort(library_num)\n",
    "print (\"Sorted array:\", library_num)"
   ]
  },
  {
   "cell_type": "code",
   "execution_count": null,
   "id": "9f1633a5",
   "metadata": {},
   "outputs": [],
   "source": []
  },
  {
   "cell_type": "code",
   "execution_count": null,
   "id": "1ba15ecd",
   "metadata": {},
   "outputs": [],
   "source": []
  }
 ],
 "metadata": {
  "kernelspec": {
   "display_name": "Python 3 (ipykernel)",
   "language": "python",
   "name": "python3"
  },
  "language_info": {
   "codemirror_mode": {
    "name": "ipython",
    "version": 3
   },
   "file_extension": ".py",
   "mimetype": "text/x-python",
   "name": "python",
   "nbconvert_exporter": "python",
   "pygments_lexer": "ipython3",
   "version": "3.9.12"
  }
 },
 "nbformat": 4,
 "nbformat_minor": 5
}
